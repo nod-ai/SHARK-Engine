{
 "cells": [
  {
   "cell_type": "code",
   "execution_count": 1,
   "id": "f06d09cc-50d7-4b4f-8c08-27963a2378b1",
   "metadata": {},
   "outputs": [
    {
     "name": "stderr",
     "output_type": "stream",
     "text": [
      "C:\\Users\\zjgar\\code\\SHARK-Turbine\\SHARK-Turbine.venv\\Lib\\site-packages\\tqdm\\auto.py:21: TqdmWarning: IProgress not found. Please update jupyter and ipywidgets. See https://ipywidgets.readthedocs.io/en/stable/user_install.html\n",
      "  from .autonotebook import tqdm as notebook_tqdm\n"
     ]
    }
   ],
   "source": [
    "import os\n",
    "import numpy as np\n",
    "from transformers import AutoFeatureExtractor, AutoModelForImageClassification\n",
    "import torch\n",
    "from shark_turbine.aot import *\n",
    "from iree.compiler.ir import Context\n",
    "from iree.compiler.api import Session\n",
    "from datasets import load_dataset\n",
    "import PIL"
   ]
  },
  {
   "cell_type": "code",
   "execution_count": 2,
   "id": "b1c523ee-3d76-4536-8d08-74004ae7409a",
   "metadata": {},
   "outputs": [
    {
     "name": "stderr",
     "output_type": "stream",
     "text": [
      "C:\\Users\\zjgar\\code\\SHARK-Turbine\\SHARK-Turbine.venv\\Lib\\site-packages\\transformers\\models\\convnext\\feature_extraction_convnext.py:28: FutureWarning: The class ConvNextFeatureExtractor is deprecated and will be removed in version 5 of Transformers. Please use ConvNextImageProcessor instead.\n",
      "  warnings.warn(\n"
     ]
    }
   ],
   "source": [
    "# Load feature extractor and pretrained model from huggingface\n",
    "extractor = AutoFeatureExtractor.from_pretrained(\"microsoft/resnet-18\")\n",
    "model = AutoModelForImageClassification.from_pretrained(\"microsoft/resnet-18\")"
   ]
  },
  {
   "cell_type": "code",
   "execution_count": 3,
   "id": "6762c91b-1b18-4b14-a4f3-4fb0045f73bc",
   "metadata": {},
   "outputs": [],
   "source": [
    "###\n",
    "#standard inference example (no SHARK-Turbine):\n",
    "###\n",
    "\n",
    "#load an example\n",
    "dataset = load_dataset(\"huggingface/cats-image\")\n",
    "image = dataset[\"test\"][\"image\"][0]\n",
    "\n",
    "#image.save(\"cats-image.jpg\") #if you want to see the cute picture :)\n",
    "\n",
    "#image2 = PIL.JpegImagePlugin.JpegImageFile(\"yourexamplepicture.jpg\")"
   ]
  },
  {
   "cell_type": "code",
   "execution_count": 4,
   "id": "9effe7f0-3145-4d43-9fe6-783088e0bfe2",
   "metadata": {},
   "outputs": [],
   "source": [
    "#extract features from image(s) to feed to model\n",
    "inputs = extractor(image, return_tensors=\"pt\")\n",
    "#inputs2 = extractor(image2, return_tensors=\"pt\")\n",
    "pixel_tensor = inputs.pixel_values"
   ]
  },
  {
   "cell_type": "code",
   "execution_count": 5,
   "id": "29eb8631-2106-4de0-b2d1-0d32a12842c2",
   "metadata": {},
   "outputs": [
    {
     "name": "stdout",
     "output_type": "stream",
     "text": [
      "tabby, tabby cat\n"
     ]
    }
   ],
   "source": [
    "#standard torch application of model to extracted feature input.\n",
    "\n",
    "with torch.no_grad():\n",
    "    logits = model.forward(pixel_tensor).logits\n",
    "#    logits2 = model(**inputs2).logits\n",
    "\n",
    "predicted_label = torch.argmax(logits,-1).item()\n",
    "#predicted_label2 = logits2.argmax(-1).item()\n",
    "\n",
    "print(model.config.id2label[predicted_label])\n",
    "#print(model.config.id2label[predicted_label2])\n"
   ]
  },
  {
   "cell_type": "code",
   "execution_count": 6,
   "id": "ee879290-8fe6-47eb-b998-bfa5989c6fd5",
   "metadata": {},
   "outputs": [],
   "source": [
    "###\n",
    "#Using SHARK-Turbine to write a torch-mlir file for performing inference with the model.\n",
    "###\n",
    "\n",
    "class wtfamidoing2(CompiledModule):\n",
    "    #this one is trying to pass the pixel_value tensor as an Abstract Tensor?\n",
    "    params = export_parameters(model, initialize =False) #         is this necessary? \n",
    "\n",
    "    def forward(self, x = AbstractTensor(1, 3, 224, 224, dtype=torch.float32) ):\n",
    "        with torch.no_grad():\n",
    "            logits0 = jittable(model.forward)(x)['logits']\n",
    "        label = self.labelout(logits0)\n",
    "        #str_output = model.config.id2label[predicted_label0] \n",
    "        return label\n",
    "\n",
    "    @jittable\n",
    "    def labelout(logitsin):\n",
    "        label =  torch.argmax(logitsin,-1)\n",
    "        return label"
   ]
  },
  {
   "cell_type": "code",
   "execution_count": 7,
   "id": "41ec4bea-1e60-4881-80ba-261de5244e00",
   "metadata": {},
   "outputs": [],
   "source": [
    "#build an instance of our CompiledModule and get the corresponding mlir code\n",
    "inst2 = wtfamidoing2(context=Context(), import_to=\"IMPORT\")"
   ]
  },
  {
   "cell_type": "code",
   "execution_count": 8,
   "id": "d7f3dd79-08c9-48b7-bfe6-e5e3bc7f9a17",
   "metadata": {},
   "outputs": [],
   "source": [
    "#module_str2 = str(CompiledModule.get_mlir_module(inst2))\n",
    "#print(module_str2)"
   ]
  },
  {
   "cell_type": "code",
   "execution_count": 9,
   "id": "620b85e0-bf9b-4527-bf6c-6f5708478917",
   "metadata": {},
   "outputs": [],
   "source": [
    "session = Session()\n",
    "ExportedModule = exporter.ExportOutput(session,inst2)"
   ]
  },
  {
   "cell_type": "code",
   "execution_count": 10,
   "id": "811d7750-72a8-4aa4-a21b-aa38ab36a405",
   "metadata": {},
   "outputs": [
    {
     "ename": "RuntimeError",
     "evalue": "Compilation failed: See diagnostics",
     "output_type": "error",
     "traceback": [
      "\u001b[1;31m---------------------------------------------------------------------------\u001b[0m",
      "\u001b[1;31mRuntimeError\u001b[0m                              Traceback (most recent call last)",
      "Cell \u001b[1;32mIn[10], line 1\u001b[0m\n\u001b[1;32m----> 1\u001b[0m compiled_binary \u001b[38;5;241m=\u001b[39m \u001b[43mExportedModule\u001b[49m\u001b[38;5;241;43m.\u001b[39;49m\u001b[43mcompile\u001b[49m\u001b[43m(\u001b[49m\u001b[43msave_to\u001b[49m\u001b[38;5;241;43m=\u001b[39;49m\u001b[38;5;28;43;01mNone\u001b[39;49;00m\u001b[43m)\u001b[49m\n",
      "File \u001b[1;32m~\\code\\SHARK-Turbine\\python\\shark_turbine\\aot\\exporter.py:138\u001b[0m, in \u001b[0;36mExportOutput.compile\u001b[1;34m(self, save_to, target_backends)\u001b[0m\n\u001b[0;32m    136\u001b[0m \u001b[38;5;28mself\u001b[39m\u001b[38;5;241m.\u001b[39msession\u001b[38;5;241m.\u001b[39mset_flags(\u001b[38;5;124mf\u001b[39m\u001b[38;5;124m\"\u001b[39m\u001b[38;5;124m--iree-hal-target-backends=\u001b[39m\u001b[38;5;132;01m{\u001b[39;00mtarget_backends\u001b[38;5;132;01m}\u001b[39;00m\u001b[38;5;124m\"\u001b[39m)\n\u001b[0;32m    137\u001b[0m \u001b[38;5;28;01mif\u001b[39;00m \u001b[38;5;129;01mnot\u001b[39;00m inv\u001b[38;5;241m.\u001b[39mexecute():\n\u001b[1;32m--> 138\u001b[0m     \u001b[38;5;28;01mraise\u001b[39;00m \u001b[38;5;167;01mRuntimeError\u001b[39;00m(\u001b[38;5;124m\"\u001b[39m\u001b[38;5;124mCompilation failed: See diagnostics\u001b[39m\u001b[38;5;124m\"\u001b[39m)\n\u001b[0;32m    140\u001b[0m inv\u001b[38;5;241m.\u001b[39moutput_vm_bytecode(output)\n\u001b[0;32m    141\u001b[0m output\u001b[38;5;241m.\u001b[39mkeep()\n",
      "\u001b[1;31mRuntimeError\u001b[0m: Compilation failed: See diagnostics"
     ]
    }
   ],
   "source": [
    "compiled_binary = ExportedModule.compile(save_to=None)"
   ]
  }
 ],
 "metadata": {
  "kernelspec": {
   "display_name": "Python 3 (ipykernel)",
   "language": "python",
   "name": "python3"
  },
  "language_info": {
   "codemirror_mode": {
    "name": "ipython",
    "version": 3
   },
   "file_extension": ".py",
   "mimetype": "text/x-python",
   "name": "python",
   "nbconvert_exporter": "python",
   "pygments_lexer": "ipython3",
   "version": "3.11.6"
  }
 },
 "nbformat": 4,
 "nbformat_minor": 5
}
