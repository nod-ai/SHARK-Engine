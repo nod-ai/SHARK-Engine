{
 "cells": [
  {
   "cell_type": "code",
   "execution_count": 1,
   "id": "f06d09cc-50d7-4b4f-8c08-27963a2378b1",
   "metadata": {},
   "outputs": [],
   "source": [
    "import os\n",
    "import numpy as np\n",
    "from transformers import AutoFeatureExtractor, AutoModelForImageClassification\n",
    "import torch\n",
    "from shark_turbine.aot import *\n",
    "from iree.compiler.ir import Context\n",
    "from datasets import load_dataset\n",
    "import PIL"
   ]
  },
  {
   "cell_type": "code",
   "execution_count": 2,
   "id": "b1c523ee-3d76-4536-8d08-74004ae7409a",
   "metadata": {},
   "outputs": [
    {
     "name": "stderr",
     "output_type": "stream",
     "text": [
      "C:\\Users\\zjgar\\code\\SHARK-Turbine\\examples\\llama2_inference\\llama2.venv\\Lib\\site-packages\\transformers\\models\\convnext\\feature_extraction_convnext.py:28: FutureWarning: The class ConvNextFeatureExtractor is deprecated and will be removed in version 5 of Transformers. Please use ConvNextImageProcessor instead.\n",
      "  warnings.warn(\n"
     ]
    }
   ],
   "source": [
    "# Load feature extractor and pretrained model from huggingface\n",
    "extractor = AutoFeatureExtractor.from_pretrained(\"microsoft/resnet-18\")\n",
    "model = AutoModelForImageClassification.from_pretrained(\"microsoft/resnet-18\")\n",
    "\n",
    "#Do I need a state schema?? "
   ]
  },
  {
   "cell_type": "code",
   "execution_count": 3,
   "id": "6762c91b-1b18-4b14-a4f3-4fb0045f73bc",
   "metadata": {},
   "outputs": [],
   "source": [
    "###\n",
    "#standard inference example (no SHARK-Turbine):\n",
    "###\n",
    "\n",
    "#load an example\n",
    "dataset = load_dataset(\"huggingface/cats-image\")\n",
    "image = dataset[\"test\"][\"image\"][0]\n",
    "\n",
    "#image.save(\"cats-image.jpg\") #if you want to see the cute picture :)\n",
    "\n",
    "#image2 = PIL.JpegImagePlugin.JpegImageFile(\"yourexamplepicture.jpg\")"
   ]
  },
  {
   "cell_type": "code",
   "execution_count": 4,
   "id": "9effe7f0-3145-4d43-9fe6-783088e0bfe2",
   "metadata": {},
   "outputs": [],
   "source": [
    "#extract features from image(s) to feed to model\n",
    "inputs = extractor(image, return_tensors=\"pt\")\n",
    "#inputs2 = extractor(image2, return_tensors=\"pt\")\n",
    "pixel_tensor = inputs.pixel_values"
   ]
  },
  {
   "cell_type": "code",
   "execution_count": 5,
   "id": "02e334df-a96f-4b6b-a58b-cd5204fb7ebf",
   "metadata": {},
   "outputs": [
    {
     "name": "stdout",
     "output_type": "stream",
     "text": [
      "AbstractTensor(1, 3, 224, 224, dtype=torch.float32)\n"
     ]
    }
   ],
   "source": [
    "z= support.procedural.base.abstractify_single_value(pixel_tensor)\n",
    "print(z)"
   ]
  },
  {
   "cell_type": "code",
   "execution_count": 6,
   "id": "29eb8631-2106-4de0-b2d1-0d32a12842c2",
   "metadata": {},
   "outputs": [
    {
     "name": "stdout",
     "output_type": "stream",
     "text": [
      "tabby, tabby cat\n"
     ]
    }
   ],
   "source": [
    "#standard torch application of model to extracted feature input.\n",
    "\n",
    "logits = model.forward(pixel_tensor).logits\n",
    "#    logits2 = model(**inputs2).logits\n",
    "\n",
    "predicted_label = logits.argmax(-1).item()\n",
    "#predicted_label2 = logits2.argmax(-1).item()\n",
    "\n",
    "print(model.config.id2label[predicted_label])\n",
    "#print(model.config.id2label[predicted_label2])\n"
   ]
  },
  {
   "cell_type": "code",
   "execution_count": 8,
   "id": "ee879290-8fe6-47eb-b998-bfa5989c6fd5",
   "metadata": {},
   "outputs": [],
   "source": [
    "###\n",
    "#Using SHARK-Turbine to write a torch-mlir file for performing inference with the model.\n",
    "###\n",
    "\n",
    "#Questions: what is the minimum necessary functionality to include in a CompiledModule subclass? \n",
    "\n",
    "class wtfamidoing(CompiledModule):\n",
    "    params = export_parameters(model, initialize =False) #         is this necessary? \n",
    "\n",
    "    @jittable\n",
    "    def forward(pixels : torch.Tensor):\n",
    "        logits0 = model.forward(pixels).logits\n",
    "        label = logits0.argmax(-1).item()\n",
    "        #str_output = model.config.id2label[predicted_label0] \n",
    "        return label\n",
    "\n",
    "        '''def forward(self, x = AbstractTensor(1, 3, 224, 224, dtype=torch.float32) ):\n",
    "        label = self.forward(x)\n",
    "        return label'''\n",
    "\n"
   ]
  },
  {
   "cell_type": "code",
   "execution_count": 9,
   "id": "41ec4bea-1e60-4881-80ba-261de5244e00",
   "metadata": {},
   "outputs": [],
   "source": [
    "#build an instance of our CompiledModule and get the corresponding mlir code\n",
    "inst = wtfamidoing(context=Context(), import_to=\"IMPORT\")\n",
    "module_str = str(CompiledModule.get_mlir_module(inst))"
   ]
  },
  {
   "cell_type": "code",
   "execution_count": 10,
   "id": "466e009a-1de6-40b8-b6a8-b5bef10e5c3d",
   "metadata": {},
   "outputs": [
    {
     "name": "stdout",
     "output_type": "stream",
     "text": [
      "module @wtfamidoing {\n",
      "  util.global private @_params.resnet.embedder.embedder.convolution.weight {noinline} : tensor<64x3x7x7xf32>\n",
      "  util.global private @_params.resnet.embedder.embedder.normalization.weight {noinline} : tensor<64xf32>\n",
      "  util.global private @_params.resnet.embedder.embedder.normalization.bias {noinline} : tensor<64xf32>\n",
      "  util.global private @_params.resnet.encoder.stages.0.layers.0.layer.0.convolution.weight {noinline} : tensor<64x64x3x3xf32>\n",
      "  util.global private @_params.resnet.encoder.stages.0.layers.0.layer.0.normalization.weight {noinline} : tensor<64xf32>\n",
      "  util.global private @_params.resnet.encoder.stages.0.layers.0.layer.0.normalization.bias {noinline} : tensor<64xf32>\n",
      "  util.global private @_params.resnet.encoder.stages.0.layers.0.layer.1.convolution.weight {noinline} : tensor<64x64x3x3xf32>\n",
      "  util.global private @_params.resnet.encoder.stages.0.layers.0.layer.1.normalization.weight {noinline} : tensor<64xf32>\n",
      "  util.global private @_params.resnet.encoder.stages.0.layers.0.layer.1.normalization.bias {noinline} : tensor<64xf32>\n",
      "  util.global private @_params.resnet.encoder.stages.0.layers.1.layer.0.convolution.weight {noinline} : tensor<64x64x3x3xf32>\n",
      "  util.global private @_params.resnet.encoder.stages.0.layers.1.layer.0.normalization.weight {noinline} : tensor<64xf32>\n",
      "  util.global private @_params.resnet.encoder.stages.0.layers.1.layer.0.normalization.bias {noinline} : tensor<64xf32>\n",
      "  util.global private @_params.resnet.encoder.stages.0.layers.1.layer.1.convolution.weight {noinline} : tensor<64x64x3x3xf32>\n",
      "  util.global private @_params.resnet.encoder.stages.0.layers.1.layer.1.normalization.weight {noinline} : tensor<64xf32>\n",
      "  util.global private @_params.resnet.encoder.stages.0.layers.1.layer.1.normalization.bias {noinline} : tensor<64xf32>\n",
      "  util.global private @_params.resnet.encoder.stages.1.layers.0.shortcut.convolution.weight {noinline} : tensor<128x64x1x1xf32>\n",
      "  util.global private @_params.resnet.encoder.stages.1.layers.0.shortcut.normalization.weight {noinline} : tensor<128xf32>\n",
      "  util.global private @_params.resnet.encoder.stages.1.layers.0.shortcut.normalization.bias {noinline} : tensor<128xf32>\n",
      "  util.global private @_params.resnet.encoder.stages.1.layers.0.layer.0.convolution.weight {noinline} : tensor<128x64x3x3xf32>\n",
      "  util.global private @_params.resnet.encoder.stages.1.layers.0.layer.0.normalization.weight {noinline} : tensor<128xf32>\n",
      "  util.global private @_params.resnet.encoder.stages.1.layers.0.layer.0.normalization.bias {noinline} : tensor<128xf32>\n",
      "  util.global private @_params.resnet.encoder.stages.1.layers.0.layer.1.convolution.weight {noinline} : tensor<128x128x3x3xf32>\n",
      "  util.global private @_params.resnet.encoder.stages.1.layers.0.layer.1.normalization.weight {noinline} : tensor<128xf32>\n",
      "  util.global private @_params.resnet.encoder.stages.1.layers.0.layer.1.normalization.bias {noinline} : tensor<128xf32>\n",
      "  util.global private @_params.resnet.encoder.stages.1.layers.1.layer.0.convolution.weight {noinline} : tensor<128x128x3x3xf32>\n",
      "  util.global private @_params.resnet.encoder.stages.1.layers.1.layer.0.normalization.weight {noinline} : tensor<128xf32>\n",
      "  util.global private @_params.resnet.encoder.stages.1.layers.1.layer.0.normalization.bias {noinline} : tensor<128xf32>\n",
      "  util.global private @_params.resnet.encoder.stages.1.layers.1.layer.1.convolution.weight {noinline} : tensor<128x128x3x3xf32>\n",
      "  util.global private @_params.resnet.encoder.stages.1.layers.1.layer.1.normalization.weight {noinline} : tensor<128xf32>\n",
      "  util.global private @_params.resnet.encoder.stages.1.layers.1.layer.1.normalization.bias {noinline} : tensor<128xf32>\n",
      "  util.global private @_params.resnet.encoder.stages.2.layers.0.shortcut.convolution.weight {noinline} : tensor<256x128x1x1xf32>\n",
      "  util.global private @_params.resnet.encoder.stages.2.layers.0.shortcut.normalization.weight {noinline} : tensor<256xf32>\n",
      "  util.global private @_params.resnet.encoder.stages.2.layers.0.shortcut.normalization.bias {noinline} : tensor<256xf32>\n",
      "  util.global private @_params.resnet.encoder.stages.2.layers.0.layer.0.convolution.weight {noinline} : tensor<256x128x3x3xf32>\n",
      "  util.global private @_params.resnet.encoder.stages.2.layers.0.layer.0.normalization.weight {noinline} : tensor<256xf32>\n",
      "  util.global private @_params.resnet.encoder.stages.2.layers.0.layer.0.normalization.bias {noinline} : tensor<256xf32>\n",
      "  util.global private @_params.resnet.encoder.stages.2.layers.0.layer.1.convolution.weight {noinline} : tensor<256x256x3x3xf32>\n",
      "  util.global private @_params.resnet.encoder.stages.2.layers.0.layer.1.normalization.weight {noinline} : tensor<256xf32>\n",
      "  util.global private @_params.resnet.encoder.stages.2.layers.0.layer.1.normalization.bias {noinline} : tensor<256xf32>\n",
      "  util.global private @_params.resnet.encoder.stages.2.layers.1.layer.0.convolution.weight {noinline} : tensor<256x256x3x3xf32>\n",
      "  util.global private @_params.resnet.encoder.stages.2.layers.1.layer.0.normalization.weight {noinline} : tensor<256xf32>\n",
      "  util.global private @_params.resnet.encoder.stages.2.layers.1.layer.0.normalization.bias {noinline} : tensor<256xf32>\n",
      "  util.global private @_params.resnet.encoder.stages.2.layers.1.layer.1.convolution.weight {noinline} : tensor<256x256x3x3xf32>\n",
      "  util.global private @_params.resnet.encoder.stages.2.layers.1.layer.1.normalization.weight {noinline} : tensor<256xf32>\n",
      "  util.global private @_params.resnet.encoder.stages.2.layers.1.layer.1.normalization.bias {noinline} : tensor<256xf32>\n",
      "  util.global private @_params.resnet.encoder.stages.3.layers.0.shortcut.convolution.weight {noinline} : tensor<512x256x1x1xf32>\n",
      "  util.global private @_params.resnet.encoder.stages.3.layers.0.shortcut.normalization.weight {noinline} : tensor<512xf32>\n",
      "  util.global private @_params.resnet.encoder.stages.3.layers.0.shortcut.normalization.bias {noinline} : tensor<512xf32>\n",
      "  util.global private @_params.resnet.encoder.stages.3.layers.0.layer.0.convolution.weight {noinline} : tensor<512x256x3x3xf32>\n",
      "  util.global private @_params.resnet.encoder.stages.3.layers.0.layer.0.normalization.weight {noinline} : tensor<512xf32>\n",
      "  util.global private @_params.resnet.encoder.stages.3.layers.0.layer.0.normalization.bias {noinline} : tensor<512xf32>\n",
      "  util.global private @_params.resnet.encoder.stages.3.layers.0.layer.1.convolution.weight {noinline} : tensor<512x512x3x3xf32>\n",
      "  util.global private @_params.resnet.encoder.stages.3.layers.0.layer.1.normalization.weight {noinline} : tensor<512xf32>\n",
      "  util.global private @_params.resnet.encoder.stages.3.layers.0.layer.1.normalization.bias {noinline} : tensor<512xf32>\n",
      "  util.global private @_params.resnet.encoder.stages.3.layers.1.layer.0.convolution.weight {noinline} : tensor<512x512x3x3xf32>\n",
      "  util.global private @_params.resnet.encoder.stages.3.layers.1.layer.0.normalization.weight {noinline} : tensor<512xf32>\n",
      "  util.global private @_params.resnet.encoder.stages.3.layers.1.layer.0.normalization.bias {noinline} : tensor<512xf32>\n",
      "  util.global private @_params.resnet.encoder.stages.3.layers.1.layer.1.convolution.weight {noinline} : tensor<512x512x3x3xf32>\n",
      "  util.global private @_params.resnet.encoder.stages.3.layers.1.layer.1.normalization.weight {noinline} : tensor<512xf32>\n",
      "  util.global private @_params.resnet.encoder.stages.3.layers.1.layer.1.normalization.bias {noinline} : tensor<512xf32>\n",
      "  util.global private @_params.classifier.1.weight {noinline} : tensor<1000x512xf32>\n",
      "  util.global private @_params.classifier.1.bias {noinline} : tensor<1000xf32>\n",
      "}\n",
      "\n"
     ]
    }
   ],
   "source": [
    "print(module_str)"
   ]
  },
  {
   "cell_type": "code",
   "execution_count": 11,
   "id": "b9854929-8fb6-4adb-a1d7-f00c4604020d",
   "metadata": {},
   "outputs": [],
   "source": [
    "#Output a torch-ir mlir file\n",
    "with open(\"resnet-18.mlir\", \"w+\") as f:\n",
    "    f.write(module_str)"
   ]
  },
  {
   "cell_type": "code",
   "execution_count": null,
   "id": "620b85e0-bf9b-4527-bf6c-6f5708478917",
   "metadata": {},
   "outputs": [],
   "source": []
  }
 ],
 "metadata": {
  "kernelspec": {
   "display_name": "llama2.venv",
   "language": "python",
   "name": "llama2.venv"
  },
  "language_info": {
   "codemirror_mode": {
    "name": "ipython",
    "version": 3
   },
   "file_extension": ".py",
   "mimetype": "text/x-python",
   "name": "python",
   "nbconvert_exporter": "python",
   "pygments_lexer": "ipython3",
   "version": "3.11.6"
  }
 },
 "nbformat": 4,
 "nbformat_minor": 5
}
