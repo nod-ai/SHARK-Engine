{
 "cells": [
  {
   "cell_type": "code",
   "execution_count": 1,
   "id": "f06d09cc-50d7-4b4f-8c08-27963a2378b1",
   "metadata": {},
   "outputs": [
    {
     "ename": "ModuleNotFoundError",
     "evalue": "No module named 'numpy'",
     "output_type": "error",
     "traceback": [
      "\u001b[1;31m---------------------------------------------------------------------------\u001b[0m",
      "\u001b[1;31mModuleNotFoundError\u001b[0m                       Traceback (most recent call last)",
      "Cell \u001b[1;32mIn[1], line 2\u001b[0m\n\u001b[0;32m      1\u001b[0m \u001b[38;5;28;01mimport\u001b[39;00m \u001b[38;5;21;01mos\u001b[39;00m\n\u001b[1;32m----> 2\u001b[0m \u001b[38;5;28;01mimport\u001b[39;00m \u001b[38;5;21;01mnumpy\u001b[39;00m \u001b[38;5;28;01mas\u001b[39;00m \u001b[38;5;21;01mnp\u001b[39;00m\n\u001b[0;32m      3\u001b[0m \u001b[38;5;28;01mfrom\u001b[39;00m \u001b[38;5;21;01mtransformers\u001b[39;00m \u001b[38;5;28;01mimport\u001b[39;00m AutoFeatureExtractor, AutoModelForImageClassification\n\u001b[0;32m      4\u001b[0m \u001b[38;5;28;01mimport\u001b[39;00m \u001b[38;5;21;01mtorch\u001b[39;00m\n",
      "\u001b[1;31mModuleNotFoundError\u001b[0m: No module named 'numpy'"
     ]
    }
   ],
   "source": [
    "import os\n",
    "import numpy as np\n",
    "from transformers import AutoFeatureExtractor, AutoModelForImageClassification\n",
    "import torch\n",
    "from shark_turbine.aot import *\n",
    "from iree.compiler.ir import Context\n",
    "from datasets import load_dataset\n",
    "import PIL"
   ]
  },
  {
   "cell_type": "code",
   "execution_count": null,
   "id": "b1c523ee-3d76-4536-8d08-74004ae7409a",
   "metadata": {},
   "outputs": [],
   "source": [
    "# Load feature extractor and pretrained model from huggingface\n",
    "extractor = AutoFeatureExtractor.from_pretrained(\"microsoft/resnet-18\")\n",
    "model = AutoModelForImageClassification.from_pretrained(\"microsoft/resnet-18\")"
   ]
  },
  {
   "cell_type": "code",
   "execution_count": null,
   "id": "6762c91b-1b18-4b14-a4f3-4fb0045f73bc",
   "metadata": {},
   "outputs": [],
   "source": [
    "###\n",
    "#standard inference example (no SHARK-Turbine):\n",
    "###\n",
    "\n",
    "#load an example\n",
    "dataset = load_dataset(\"huggingface/cats-image\")\n",
    "image = dataset[\"test\"][\"image\"][0]\n",
    "\n",
    "#image.save(\"cats-image.jpg\") #if you want to see the cute picture :)\n",
    "\n",
    "#image2 = PIL.JpegImagePlugin.JpegImageFile(\"yourexamplepicture.jpg\")"
   ]
  },
  {
   "cell_type": "code",
   "execution_count": null,
   "id": "9effe7f0-3145-4d43-9fe6-783088e0bfe2",
   "metadata": {},
   "outputs": [],
   "source": [
    "#extract features from image(s) to feed to model\n",
    "inputs = extractor(image, return_tensors=\"pt\")\n",
    "#inputs2 = extractor(image2, return_tensors=\"pt\")"
   ]
  },
  {
   "cell_type": "code",
   "execution_count": null,
   "id": "29eb8631-2106-4de0-b2d1-0d32a12842c2",
   "metadata": {},
   "outputs": [],
   "source": [
    "#standard torch application of model to extracted feature input.\n",
    "with torch.no_grad():\n",
    "    logits = model(**inputs).logits\n",
    "#    logits2 = model(**inputs2).logits\n",
    "\n",
    "predicted_label = logits.argmax(-1).item()\n",
    "#predicted_label2 = logits2.argmax(-1).item()\n",
    "\n",
    "print(model.config.id2label[predicted_label])\n",
    "#print(model.config.id2label[predicted_label2])"
   ]
  },
  {
   "cell_type": "code",
   "execution_count": null,
   "id": "ee879290-8fe6-47eb-b998-bfa5989c6fd5",
   "metadata": {},
   "outputs": [],
   "source": [
    "###\n",
    "#Using SHARK-Turbine to write a torch-mlir file for performing inference with the model.\n",
    "###\n",
    "\n",
    "#Questions: what is the minimum necessary functionality to include in a CompiledModule subclass? \n",
    "\n",
    "class wtfamidoing(CompiledModule):\n",
    "    params = export_parameters(model, initialize =False) #                is this necessary? \n",
    "    \n",
    "    @jittable\n",
    "    def forward(image0):\n",
    "        input0 = extractor(image0, return_tensors='pt')\n",
    "        with torch.no_grad():\n",
    "            logits0 = model(**input0).logits #                            Do I need to do anything else with input0?\n",
    "        predicted_label0 = logits.argmax(-1).item()\n",
    "        str_output = model.config.id2label[predicted_label0]\n",
    "        return str_output"
   ]
  },
  {
   "cell_type": "code",
   "execution_count": null,
   "id": "41ec4bea-1e60-4881-80ba-261de5244e00",
   "metadata": {},
   "outputs": [],
   "source": [
    "#build an instance of our CompiledModule and get the corresponding mlir code\n",
    "inst = wtfamidoing(context=Context(), import_to=\"IMPORT\")\n",
    "module_str = str(CompiledModule.get_mlir_module(inst))"
   ]
  },
  {
   "cell_type": "code",
   "execution_count": null,
   "id": "b9854929-8fb6-4adb-a1d7-f00c4604020d",
   "metadata": {},
   "outputs": [],
   "source": [
    "#Output a torch-ir mlir file\n",
    "with open(\"resnet-18.mlir\", \"w+\") as f:\n",
    "    f.write(module_str)"
   ]
  }
 ],
 "metadata": {
  "kernelspec": {
   "display_name": "resnet-18.venv",
   "language": "python",
   "name": "resnet-18.venv"
  },
  "language_info": {
   "codemirror_mode": {
    "name": "ipython",
    "version": 3
   },
   "file_extension": ".py",
   "mimetype": "text/x-python",
   "name": "python",
   "nbconvert_exporter": "python",
   "pygments_lexer": "ipython3",
   "version": "3.11.6"
  }
 },
 "nbformat": 4,
 "nbformat_minor": 5
}
