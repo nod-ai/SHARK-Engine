{
 "cells": [
  {
   "cell_type": "code",
   "execution_count": 1,
   "id": "f06d09cc-50d7-4b4f-8c08-27963a2378b1",
   "metadata": {},
   "outputs": [],
   "source": [
    "import os\n",
    "import numpy as np\n",
    "from transformers import AutoFeatureExtractor, AutoModelForImageClassification\n",
    "import torch\n",
    "from shark_turbine.aot import *\n",
    "from iree.compiler.ir import Context\n",
    "from datasets import load_dataset\n",
    "import PIL"
   ]
  },
  {
   "cell_type": "code",
   "execution_count": 2,
   "id": "b1c523ee-3d76-4536-8d08-74004ae7409a",
   "metadata": {},
   "outputs": [
    {
     "name": "stderr",
     "output_type": "stream",
     "text": [
      "C:\\Users\\zjgar\\code\\SHARK-Turbine\\examples\\llama2_inference\\llama2.venv\\Lib\\site-packages\\transformers\\models\\convnext\\feature_extraction_convnext.py:28: FutureWarning: The class ConvNextFeatureExtractor is deprecated and will be removed in version 5 of Transformers. Please use ConvNextImageProcessor instead.\n",
      "  warnings.warn(\n"
     ]
    }
   ],
   "source": [
    "# Load feature extractor and pretrained model from huggingface\n",
    "extractor = AutoFeatureExtractor.from_pretrained(\"microsoft/resnet-18\")\n",
    "model = AutoModelForImageClassification.from_pretrained(\"microsoft/resnet-18\")\n",
    "\n",
    "#Do I need a state schema?? "
   ]
  },
  {
   "cell_type": "code",
   "execution_count": 3,
   "id": "6762c91b-1b18-4b14-a4f3-4fb0045f73bc",
   "metadata": {},
   "outputs": [],
   "source": [
    "###\n",
    "#standard inference example (no SHARK-Turbine):\n",
    "###\n",
    "\n",
    "#load an example\n",
    "dataset = load_dataset(\"huggingface/cats-image\")\n",
    "image = dataset[\"test\"][\"image\"][0]\n",
    "\n",
    "#image.save(\"cats-image.jpg\") #if you want to see the cute picture :)\n",
    "\n",
    "#image2 = PIL.JpegImagePlugin.JpegImageFile(\"yourexamplepicture.jpg\")"
   ]
  },
  {
   "cell_type": "code",
   "execution_count": 4,
   "id": "9effe7f0-3145-4d43-9fe6-783088e0bfe2",
   "metadata": {},
   "outputs": [],
   "source": [
    "#extract features from image(s) to feed to model\n",
    "inputs = extractor(image, return_tensors=\"pt\")\n",
    "#inputs2 = extractor(image2, return_tensors=\"pt\")\n",
    "pixel_tensor = inputs.pixel_values"
   ]
  },
  {
   "cell_type": "code",
   "execution_count": 5,
   "id": "02e334df-a96f-4b6b-a58b-cd5204fb7ebf",
   "metadata": {},
   "outputs": [
    {
     "name": "stdout",
     "output_type": "stream",
     "text": [
      "AbstractTensor(1, 3, 224, 224, dtype=torch.float32)\n"
     ]
    }
   ],
   "source": [
    "z= support.procedural.base.abstractify_single_value(pixel_tensor)\n",
    "print(z)"
   ]
  },
  {
   "cell_type": "code",
   "execution_count": 6,
   "id": "29eb8631-2106-4de0-b2d1-0d32a12842c2",
   "metadata": {},
   "outputs": [
    {
     "name": "stdout",
     "output_type": "stream",
     "text": [
      "tabby, tabby cat\n"
     ]
    }
   ],
   "source": [
    "#standard torch application of model to extracted feature input.\n",
    "\n",
    "logits = model.forward(pixel_tensor).logits\n",
    "#    logits2 = model(**inputs2).logits\n",
    "\n",
    "predicted_label = logits.argmax(-1).item()\n",
    "#predicted_label2 = logits2.argmax(-1).item()\n",
    "\n",
    "print(model.config.id2label[predicted_label])\n",
    "#print(model.config.id2label[predicted_label2])\n"
   ]
  },
  {
   "cell_type": "code",
   "execution_count": 7,
   "id": "ee879290-8fe6-47eb-b998-bfa5989c6fd5",
   "metadata": {},
   "outputs": [],
   "source": [
    "###\n",
    "#Using SHARK-Turbine to write a torch-mlir file for performing inference with the model.\n",
    "###\n",
    "\n",
    "#Questions: what is the minimum necessary functionality to include in a CompiledModule subclass? \n",
    "\n",
    "class wtfamidoing1(CompiledModule):\n",
    "    #this one is trying to do forward as an @jittable?\n",
    "    params = export_parameters(model, initialize =False) #         is this necessary? \n",
    "\n",
    "    @jittable\n",
    "    def forward(pixels : torch.Tensor):\n",
    "        logits0 = model.forward(pixels).logits\n",
    "        label = logits0.argmax(-1).item()\n",
    "        #str_output = model.config.id2label[predicted_label0] \n",
    "        return label"
   ]
  },
  {
   "cell_type": "code",
   "execution_count": 8,
   "id": "249e9f7f-471d-4c43-ae60-7784e9b4d54c",
   "metadata": {},
   "outputs": [],
   "source": [
    "class wtfamidoing2(CompiledModule):\n",
    "    #this one is trying to pass the pixel_value tensor as an Abstract Tensor?\n",
    "    params = export_parameters(model, initialize =False) #         is this necessary? \n",
    "\n",
    "    def forward(self, x = AbstractTensor(1, 3, 224, 224, dtype=torch.float32) ):\n",
    "        logits0 = model.forward(x).logits\n",
    "        label = logits0.argmax(-1).item()\n",
    "        #str_output = model.config.id2label[predicted_label0] \n",
    "        return label"
   ]
  },
  {
   "cell_type": "code",
   "execution_count": 9,
   "id": "41ec4bea-1e60-4881-80ba-261de5244e00",
   "metadata": {},
   "outputs": [],
   "source": [
    "#build an instance of our CompiledModule and get the corresponding mlir code\n",
    "inst1 = wtfamidoing1(context=Context(), import_to=\"IMPORT\")"
   ]
  },
  {
   "cell_type": "code",
   "execution_count": 10,
   "id": "2bf167ed-314e-45d8-849d-adb5dab13f18",
   "metadata": {},
   "outputs": [
    {
     "ename": "TypeError",
     "evalue": "Multiple dispatch failed for 'torch.conv2d'; all __torch_function__ handlers returned NotImplemented:\n\n  - tensor subclass <class 'shark_turbine.aot.support.procedural.primitives.IrImmediateTensor'>\n\nFor more information, try re-running with TORCH_LOGS=not_implemented",
     "output_type": "error",
     "traceback": [
      "\u001b[1;31m---------------------------------------------------------------------------\u001b[0m",
      "\u001b[1;31mTypeError\u001b[0m                                 Traceback (most recent call last)",
      "Cell \u001b[1;32mIn[10], line 1\u001b[0m\n\u001b[1;32m----> 1\u001b[0m inst2 \u001b[38;5;241m=\u001b[39m \u001b[43mwtfamidoing2\u001b[49m\u001b[43m(\u001b[49m\u001b[43mcontext\u001b[49m\u001b[38;5;241;43m=\u001b[39;49m\u001b[43mContext\u001b[49m\u001b[43m(\u001b[49m\u001b[43m)\u001b[49m\u001b[43m,\u001b[49m\u001b[43m \u001b[49m\u001b[43mimport_to\u001b[49m\u001b[38;5;241;43m=\u001b[39;49m\u001b[38;5;124;43m\"\u001b[39;49m\u001b[38;5;124;43mIMPORT\u001b[39;49m\u001b[38;5;124;43m\"\u001b[39;49m\u001b[43m)\u001b[49m\n",
      "File \u001b[1;32m~\\code\\SHARK-Turbine\\examples\\llama2_inference\\llama2.venv\\Lib\\site-packages\\shark_turbine\\aot\\compiled_module.py:534\u001b[0m, in \u001b[0;36mCompiledModule.__new__\u001b[1;34m(cls, context, module_op, import_to)\u001b[0m\n\u001b[0;32m    531\u001b[0m         trace\u001b[38;5;241m.\u001b[39mtrace_py_func(invoke_with_self)\n\u001b[0;32m    532\u001b[0m         info\u001b[38;5;241m.\u001b[39mshadow_dict[key] \u001b[38;5;241m=\u001b[39m _uncallable_public_export\n\u001b[1;32m--> 534\u001b[0m     \u001b[43mdo_export\u001b[49m\u001b[43m(\u001b[49m\u001b[43mproc_def\u001b[49m\u001b[43m)\u001b[49m\n\u001b[0;32m    536\u001b[0m module_builder\u001b[38;5;241m.\u001b[39mfinalize_construct()\n\u001b[0;32m    537\u001b[0m CompiledModule\u001b[38;5;241m.\u001b[39mrun_import(\u001b[38;5;28mself\u001b[39m, import_to)\n",
      "File \u001b[1;32m~\\code\\SHARK-Turbine\\examples\\llama2_inference\\llama2.venv\\Lib\\site-packages\\shark_turbine\\aot\\compiled_module.py:531\u001b[0m, in \u001b[0;36mCompiledModule.__new__.<locals>.do_export\u001b[1;34m(proc_def)\u001b[0m\n\u001b[0;32m    523\u001b[0m     loc \u001b[38;5;241m=\u001b[39m Location\u001b[38;5;241m.\u001b[39munknown(context\u001b[38;5;241m=\u001b[39mmodule_builder\u001b[38;5;241m.\u001b[39mcontext)\n\u001b[0;32m    524\u001b[0m trace \u001b[38;5;241m=\u001b[39m ProcedureTrace\u001b[38;5;241m.\u001b[39mdefine_func(\n\u001b[0;32m    525\u001b[0m     module_builder,\n\u001b[0;32m    526\u001b[0m     symbol_name\u001b[38;5;241m=\u001b[39mproc_def\u001b[38;5;241m.\u001b[39mexport_name,\n\u001b[1;32m   (...)\u001b[0m\n\u001b[0;32m    529\u001b[0m     loc\u001b[38;5;241m=\u001b[39mloc,\n\u001b[0;32m    530\u001b[0m )\n\u001b[1;32m--> 531\u001b[0m \u001b[43mtrace\u001b[49m\u001b[38;5;241;43m.\u001b[39;49m\u001b[43mtrace_py_func\u001b[49m\u001b[43m(\u001b[49m\u001b[43minvoke_with_self\u001b[49m\u001b[43m)\u001b[49m\n\u001b[0;32m    532\u001b[0m info\u001b[38;5;241m.\u001b[39mshadow_dict[key] \u001b[38;5;241m=\u001b[39m _uncallable_public_export\n",
      "File \u001b[1;32m~\\code\\SHARK-Turbine\\examples\\llama2_inference\\llama2.venv\\Lib\\site-packages\\shark_turbine\\aot\\support\\procedural\\tracer.py:120\u001b[0m, in \u001b[0;36mProcedureTrace.trace_py_func\u001b[1;34m(self, py_f)\u001b[0m\n\u001b[0;32m    117\u001b[0m \u001b[38;5;28;01mdef\u001b[39;00m \u001b[38;5;21mtrace_py_func\u001b[39m(\u001b[38;5;28mself\u001b[39m, py_f: Callable):\n\u001b[0;32m    118\u001b[0m     \u001b[38;5;28;01mwith\u001b[39;00m new_ir_trace_scope(\u001b[38;5;28mself\u001b[39m) \u001b[38;5;28;01mas\u001b[39;00m t:\n\u001b[0;32m    119\u001b[0m         \u001b[38;5;66;03m# TODO: Create IR proxies for python arguments.\u001b[39;00m\n\u001b[1;32m--> 120\u001b[0m         return_py_value \u001b[38;5;241m=\u001b[39m _unproxy(\u001b[43mpy_f\u001b[49m\u001b[43m(\u001b[49m\u001b[38;5;241;43m*\u001b[39;49m\u001b[38;5;28;43mself\u001b[39;49m\u001b[38;5;241;43m.\u001b[39;49m\u001b[43mproxy_posargs\u001b[49m\u001b[43m,\u001b[49m\u001b[43m \u001b[49m\u001b[38;5;241;43m*\u001b[39;49m\u001b[38;5;241;43m*\u001b[39;49m\u001b[38;5;28;43mself\u001b[39;49m\u001b[38;5;241;43m.\u001b[39;49m\u001b[43mproxy_kwargs\u001b[49m\u001b[43m)\u001b[49m)\n\u001b[0;32m    121\u001b[0m         \u001b[38;5;28;01mif\u001b[39;00m return_py_value \u001b[38;5;129;01mis\u001b[39;00m \u001b[38;5;28;01mNone\u001b[39;00m:\n\u001b[0;32m    122\u001b[0m             \u001b[38;5;28mself\u001b[39m\u001b[38;5;241m.\u001b[39memit_return()\n",
      "File \u001b[1;32m~\\code\\SHARK-Turbine\\examples\\llama2_inference\\llama2.venv\\Lib\\site-packages\\shark_turbine\\aot\\compiled_module.py:512\u001b[0m, in \u001b[0;36mCompiledModule.__new__.<locals>.do_export.<locals>.invoke_with_self\u001b[1;34m(*args, **kwargs)\u001b[0m\n\u001b[0;32m    511\u001b[0m \u001b[38;5;28;01mdef\u001b[39;00m \u001b[38;5;21minvoke_with_self\u001b[39m(\u001b[38;5;241m*\u001b[39margs, \u001b[38;5;241m*\u001b[39m\u001b[38;5;241m*\u001b[39mkwargs):\n\u001b[1;32m--> 512\u001b[0m     \u001b[38;5;28;01mreturn\u001b[39;00m \u001b[43mproc_def\u001b[49m\u001b[38;5;241;43m.\u001b[39;49m\u001b[43mcallable\u001b[49m\u001b[43m(\u001b[49m\u001b[38;5;28;43mself\u001b[39;49m\u001b[43m,\u001b[49m\u001b[43m \u001b[49m\u001b[38;5;241;43m*\u001b[39;49m\u001b[43margs\u001b[49m\u001b[43m,\u001b[49m\u001b[43m \u001b[49m\u001b[38;5;241;43m*\u001b[39;49m\u001b[38;5;241;43m*\u001b[39;49m\u001b[43mkwargs\u001b[49m\u001b[43m)\u001b[49m\n",
      "Cell \u001b[1;32mIn[8], line 6\u001b[0m, in \u001b[0;36mwtfamidoing2.forward\u001b[1;34m(self, x)\u001b[0m\n\u001b[0;32m      5\u001b[0m \u001b[38;5;28;01mdef\u001b[39;00m \u001b[38;5;21mforward\u001b[39m(\u001b[38;5;28mself\u001b[39m, x \u001b[38;5;241m=\u001b[39m AbstractTensor(\u001b[38;5;241m1\u001b[39m, \u001b[38;5;241m3\u001b[39m, \u001b[38;5;241m224\u001b[39m, \u001b[38;5;241m224\u001b[39m, dtype\u001b[38;5;241m=\u001b[39mtorch\u001b[38;5;241m.\u001b[39mfloat32) ):\n\u001b[1;32m----> 6\u001b[0m     logits0 \u001b[38;5;241m=\u001b[39m \u001b[43mmodel\u001b[49m\u001b[38;5;241;43m.\u001b[39;49m\u001b[43mforward\u001b[49m\u001b[43m(\u001b[49m\u001b[43mx\u001b[49m\u001b[43m)\u001b[49m\u001b[38;5;241m.\u001b[39mlogits\n\u001b[0;32m      7\u001b[0m     label \u001b[38;5;241m=\u001b[39m logits0\u001b[38;5;241m.\u001b[39margmax(\u001b[38;5;241m-\u001b[39m\u001b[38;5;241m1\u001b[39m)\u001b[38;5;241m.\u001b[39mitem()\n\u001b[0;32m      8\u001b[0m     \u001b[38;5;66;03m#str_output = model.config.id2label[predicted_label0] \u001b[39;00m\n",
      "File \u001b[1;32m~\\code\\SHARK-Turbine\\examples\\llama2_inference\\llama2.venv\\Lib\\site-packages\\transformers\\models\\resnet\\modeling_resnet.py:393\u001b[0m, in \u001b[0;36mResNetForImageClassification.forward\u001b[1;34m(self, pixel_values, labels, output_hidden_states, return_dict)\u001b[0m\n\u001b[0;32m    386\u001b[0m \u001b[38;5;250m\u001b[39m\u001b[38;5;124mr\u001b[39m\u001b[38;5;124;03m\"\"\"\u001b[39;00m\n\u001b[0;32m    387\u001b[0m \u001b[38;5;124;03mlabels (`torch.LongTensor` of shape `(batch_size,)`, *optional*):\u001b[39;00m\n\u001b[0;32m    388\u001b[0m \u001b[38;5;124;03m    Labels for computing the image classification/regression loss. Indices should be in `[0, ...,\u001b[39;00m\n\u001b[0;32m    389\u001b[0m \u001b[38;5;124;03m    config.num_labels - 1]`. If `config.num_labels > 1` a classification loss is computed (Cross-Entropy).\u001b[39;00m\n\u001b[0;32m    390\u001b[0m \u001b[38;5;124;03m\"\"\"\u001b[39;00m\n\u001b[0;32m    391\u001b[0m return_dict \u001b[38;5;241m=\u001b[39m return_dict \u001b[38;5;28;01mif\u001b[39;00m return_dict \u001b[38;5;129;01mis\u001b[39;00m \u001b[38;5;129;01mnot\u001b[39;00m \u001b[38;5;28;01mNone\u001b[39;00m \u001b[38;5;28;01melse\u001b[39;00m \u001b[38;5;28mself\u001b[39m\u001b[38;5;241m.\u001b[39mconfig\u001b[38;5;241m.\u001b[39muse_return_dict\n\u001b[1;32m--> 393\u001b[0m outputs \u001b[38;5;241m=\u001b[39m \u001b[38;5;28;43mself\u001b[39;49m\u001b[38;5;241;43m.\u001b[39;49m\u001b[43mresnet\u001b[49m\u001b[43m(\u001b[49m\u001b[43mpixel_values\u001b[49m\u001b[43m,\u001b[49m\u001b[43m \u001b[49m\u001b[43moutput_hidden_states\u001b[49m\u001b[38;5;241;43m=\u001b[39;49m\u001b[43moutput_hidden_states\u001b[49m\u001b[43m,\u001b[49m\u001b[43m \u001b[49m\u001b[43mreturn_dict\u001b[49m\u001b[38;5;241;43m=\u001b[39;49m\u001b[43mreturn_dict\u001b[49m\u001b[43m)\u001b[49m\n\u001b[0;32m    395\u001b[0m pooled_output \u001b[38;5;241m=\u001b[39m outputs\u001b[38;5;241m.\u001b[39mpooler_output \u001b[38;5;28;01mif\u001b[39;00m return_dict \u001b[38;5;28;01melse\u001b[39;00m outputs[\u001b[38;5;241m1\u001b[39m]\n\u001b[0;32m    397\u001b[0m logits \u001b[38;5;241m=\u001b[39m \u001b[38;5;28mself\u001b[39m\u001b[38;5;241m.\u001b[39mclassifier(pooled_output)\n",
      "File \u001b[1;32m~\\code\\SHARK-Turbine\\examples\\llama2_inference\\llama2.venv\\Lib\\site-packages\\torch\\nn\\modules\\module.py:1518\u001b[0m, in \u001b[0;36mModule._wrapped_call_impl\u001b[1;34m(self, *args, **kwargs)\u001b[0m\n\u001b[0;32m   1516\u001b[0m     \u001b[38;5;28;01mreturn\u001b[39;00m \u001b[38;5;28mself\u001b[39m\u001b[38;5;241m.\u001b[39m_compiled_call_impl(\u001b[38;5;241m*\u001b[39margs, \u001b[38;5;241m*\u001b[39m\u001b[38;5;241m*\u001b[39mkwargs)  \u001b[38;5;66;03m# type: ignore[misc]\u001b[39;00m\n\u001b[0;32m   1517\u001b[0m \u001b[38;5;28;01melse\u001b[39;00m:\n\u001b[1;32m-> 1518\u001b[0m     \u001b[38;5;28;01mreturn\u001b[39;00m \u001b[38;5;28;43mself\u001b[39;49m\u001b[38;5;241;43m.\u001b[39;49m\u001b[43m_call_impl\u001b[49m\u001b[43m(\u001b[49m\u001b[38;5;241;43m*\u001b[39;49m\u001b[43margs\u001b[49m\u001b[43m,\u001b[49m\u001b[43m \u001b[49m\u001b[38;5;241;43m*\u001b[39;49m\u001b[38;5;241;43m*\u001b[39;49m\u001b[43mkwargs\u001b[49m\u001b[43m)\u001b[49m\n",
      "File \u001b[1;32m~\\code\\SHARK-Turbine\\examples\\llama2_inference\\llama2.venv\\Lib\\site-packages\\torch\\nn\\modules\\module.py:1527\u001b[0m, in \u001b[0;36mModule._call_impl\u001b[1;34m(self, *args, **kwargs)\u001b[0m\n\u001b[0;32m   1522\u001b[0m \u001b[38;5;66;03m# If we don't have any hooks, we want to skip the rest of the logic in\u001b[39;00m\n\u001b[0;32m   1523\u001b[0m \u001b[38;5;66;03m# this function, and just call forward.\u001b[39;00m\n\u001b[0;32m   1524\u001b[0m \u001b[38;5;28;01mif\u001b[39;00m \u001b[38;5;129;01mnot\u001b[39;00m (\u001b[38;5;28mself\u001b[39m\u001b[38;5;241m.\u001b[39m_backward_hooks \u001b[38;5;129;01mor\u001b[39;00m \u001b[38;5;28mself\u001b[39m\u001b[38;5;241m.\u001b[39m_backward_pre_hooks \u001b[38;5;129;01mor\u001b[39;00m \u001b[38;5;28mself\u001b[39m\u001b[38;5;241m.\u001b[39m_forward_hooks \u001b[38;5;129;01mor\u001b[39;00m \u001b[38;5;28mself\u001b[39m\u001b[38;5;241m.\u001b[39m_forward_pre_hooks\n\u001b[0;32m   1525\u001b[0m         \u001b[38;5;129;01mor\u001b[39;00m _global_backward_pre_hooks \u001b[38;5;129;01mor\u001b[39;00m _global_backward_hooks\n\u001b[0;32m   1526\u001b[0m         \u001b[38;5;129;01mor\u001b[39;00m _global_forward_hooks \u001b[38;5;129;01mor\u001b[39;00m _global_forward_pre_hooks):\n\u001b[1;32m-> 1527\u001b[0m     \u001b[38;5;28;01mreturn\u001b[39;00m \u001b[43mforward_call\u001b[49m\u001b[43m(\u001b[49m\u001b[38;5;241;43m*\u001b[39;49m\u001b[43margs\u001b[49m\u001b[43m,\u001b[49m\u001b[43m \u001b[49m\u001b[38;5;241;43m*\u001b[39;49m\u001b[38;5;241;43m*\u001b[39;49m\u001b[43mkwargs\u001b[49m\u001b[43m)\u001b[49m\n\u001b[0;32m   1529\u001b[0m \u001b[38;5;28;01mtry\u001b[39;00m:\n\u001b[0;32m   1530\u001b[0m     result \u001b[38;5;241m=\u001b[39m \u001b[38;5;28;01mNone\u001b[39;00m\n",
      "File \u001b[1;32m~\\code\\SHARK-Turbine\\examples\\llama2_inference\\llama2.venv\\Lib\\site-packages\\transformers\\models\\resnet\\modeling_resnet.py:332\u001b[0m, in \u001b[0;36mResNetModel.forward\u001b[1;34m(self, pixel_values, output_hidden_states, return_dict)\u001b[0m\n\u001b[0;32m    327\u001b[0m output_hidden_states \u001b[38;5;241m=\u001b[39m (\n\u001b[0;32m    328\u001b[0m     output_hidden_states \u001b[38;5;28;01mif\u001b[39;00m output_hidden_states \u001b[38;5;129;01mis\u001b[39;00m \u001b[38;5;129;01mnot\u001b[39;00m \u001b[38;5;28;01mNone\u001b[39;00m \u001b[38;5;28;01melse\u001b[39;00m \u001b[38;5;28mself\u001b[39m\u001b[38;5;241m.\u001b[39mconfig\u001b[38;5;241m.\u001b[39moutput_hidden_states\n\u001b[0;32m    329\u001b[0m )\n\u001b[0;32m    330\u001b[0m return_dict \u001b[38;5;241m=\u001b[39m return_dict \u001b[38;5;28;01mif\u001b[39;00m return_dict \u001b[38;5;129;01mis\u001b[39;00m \u001b[38;5;129;01mnot\u001b[39;00m \u001b[38;5;28;01mNone\u001b[39;00m \u001b[38;5;28;01melse\u001b[39;00m \u001b[38;5;28mself\u001b[39m\u001b[38;5;241m.\u001b[39mconfig\u001b[38;5;241m.\u001b[39muse_return_dict\n\u001b[1;32m--> 332\u001b[0m embedding_output \u001b[38;5;241m=\u001b[39m \u001b[38;5;28;43mself\u001b[39;49m\u001b[38;5;241;43m.\u001b[39;49m\u001b[43membedder\u001b[49m\u001b[43m(\u001b[49m\u001b[43mpixel_values\u001b[49m\u001b[43m)\u001b[49m\n\u001b[0;32m    334\u001b[0m encoder_outputs \u001b[38;5;241m=\u001b[39m \u001b[38;5;28mself\u001b[39m\u001b[38;5;241m.\u001b[39mencoder(\n\u001b[0;32m    335\u001b[0m     embedding_output, output_hidden_states\u001b[38;5;241m=\u001b[39moutput_hidden_states, return_dict\u001b[38;5;241m=\u001b[39mreturn_dict\n\u001b[0;32m    336\u001b[0m )\n\u001b[0;32m    338\u001b[0m last_hidden_state \u001b[38;5;241m=\u001b[39m encoder_outputs[\u001b[38;5;241m0\u001b[39m]\n",
      "File \u001b[1;32m~\\code\\SHARK-Turbine\\examples\\llama2_inference\\llama2.venv\\Lib\\site-packages\\torch\\nn\\modules\\module.py:1518\u001b[0m, in \u001b[0;36mModule._wrapped_call_impl\u001b[1;34m(self, *args, **kwargs)\u001b[0m\n\u001b[0;32m   1516\u001b[0m     \u001b[38;5;28;01mreturn\u001b[39;00m \u001b[38;5;28mself\u001b[39m\u001b[38;5;241m.\u001b[39m_compiled_call_impl(\u001b[38;5;241m*\u001b[39margs, \u001b[38;5;241m*\u001b[39m\u001b[38;5;241m*\u001b[39mkwargs)  \u001b[38;5;66;03m# type: ignore[misc]\u001b[39;00m\n\u001b[0;32m   1517\u001b[0m \u001b[38;5;28;01melse\u001b[39;00m:\n\u001b[1;32m-> 1518\u001b[0m     \u001b[38;5;28;01mreturn\u001b[39;00m \u001b[38;5;28;43mself\u001b[39;49m\u001b[38;5;241;43m.\u001b[39;49m\u001b[43m_call_impl\u001b[49m\u001b[43m(\u001b[49m\u001b[38;5;241;43m*\u001b[39;49m\u001b[43margs\u001b[49m\u001b[43m,\u001b[49m\u001b[43m \u001b[49m\u001b[38;5;241;43m*\u001b[39;49m\u001b[38;5;241;43m*\u001b[39;49m\u001b[43mkwargs\u001b[49m\u001b[43m)\u001b[49m\n",
      "File \u001b[1;32m~\\code\\SHARK-Turbine\\examples\\llama2_inference\\llama2.venv\\Lib\\site-packages\\torch\\nn\\modules\\module.py:1527\u001b[0m, in \u001b[0;36mModule._call_impl\u001b[1;34m(self, *args, **kwargs)\u001b[0m\n\u001b[0;32m   1522\u001b[0m \u001b[38;5;66;03m# If we don't have any hooks, we want to skip the rest of the logic in\u001b[39;00m\n\u001b[0;32m   1523\u001b[0m \u001b[38;5;66;03m# this function, and just call forward.\u001b[39;00m\n\u001b[0;32m   1524\u001b[0m \u001b[38;5;28;01mif\u001b[39;00m \u001b[38;5;129;01mnot\u001b[39;00m (\u001b[38;5;28mself\u001b[39m\u001b[38;5;241m.\u001b[39m_backward_hooks \u001b[38;5;129;01mor\u001b[39;00m \u001b[38;5;28mself\u001b[39m\u001b[38;5;241m.\u001b[39m_backward_pre_hooks \u001b[38;5;129;01mor\u001b[39;00m \u001b[38;5;28mself\u001b[39m\u001b[38;5;241m.\u001b[39m_forward_hooks \u001b[38;5;129;01mor\u001b[39;00m \u001b[38;5;28mself\u001b[39m\u001b[38;5;241m.\u001b[39m_forward_pre_hooks\n\u001b[0;32m   1525\u001b[0m         \u001b[38;5;129;01mor\u001b[39;00m _global_backward_pre_hooks \u001b[38;5;129;01mor\u001b[39;00m _global_backward_hooks\n\u001b[0;32m   1526\u001b[0m         \u001b[38;5;129;01mor\u001b[39;00m _global_forward_hooks \u001b[38;5;129;01mor\u001b[39;00m _global_forward_pre_hooks):\n\u001b[1;32m-> 1527\u001b[0m     \u001b[38;5;28;01mreturn\u001b[39;00m \u001b[43mforward_call\u001b[49m\u001b[43m(\u001b[49m\u001b[38;5;241;43m*\u001b[39;49m\u001b[43margs\u001b[49m\u001b[43m,\u001b[49m\u001b[43m \u001b[49m\u001b[38;5;241;43m*\u001b[39;49m\u001b[38;5;241;43m*\u001b[39;49m\u001b[43mkwargs\u001b[49m\u001b[43m)\u001b[49m\n\u001b[0;32m   1529\u001b[0m \u001b[38;5;28;01mtry\u001b[39;00m:\n\u001b[0;32m   1530\u001b[0m     result \u001b[38;5;241m=\u001b[39m \u001b[38;5;28;01mNone\u001b[39;00m\n",
      "File \u001b[1;32m~\\code\\SHARK-Turbine\\examples\\llama2_inference\\llama2.venv\\Lib\\site-packages\\transformers\\models\\resnet\\modeling_resnet.py:102\u001b[0m, in \u001b[0;36mResNetEmbeddings.forward\u001b[1;34m(self, pixel_values)\u001b[0m\n\u001b[0;32m     93\u001b[0m \u001b[38;5;28;01mdef\u001b[39;00m \u001b[38;5;21mforward\u001b[39m(\u001b[38;5;28mself\u001b[39m, pixel_values: Tensor) \u001b[38;5;241m-\u001b[39m\u001b[38;5;241m>\u001b[39m Tensor:\n\u001b[0;32m     94\u001b[0m \u001b[38;5;250m    \u001b[39m\u001b[38;5;124;03m'''try:\u001b[39;00m\n\u001b[0;32m     95\u001b[0m \u001b[38;5;124;03m        num_channels = pixel_values.shape[1]\u001b[39;00m\n\u001b[0;32m     96\u001b[0m \u001b[38;5;124;03m    except:\u001b[39;00m\n\u001b[1;32m   (...)\u001b[0m\n\u001b[0;32m    100\u001b[0m \u001b[38;5;124;03m            \"Make sure that the channel dimension of the pixel values match with the one set in the configuration.\"\u001b[39;00m\n\u001b[0;32m    101\u001b[0m \u001b[38;5;124;03m        )'''\u001b[39;00m\n\u001b[1;32m--> 102\u001b[0m     embedding \u001b[38;5;241m=\u001b[39m \u001b[38;5;28;43mself\u001b[39;49m\u001b[38;5;241;43m.\u001b[39;49m\u001b[43membedder\u001b[49m\u001b[43m(\u001b[49m\u001b[43mpixel_values\u001b[49m\u001b[43m)\u001b[49m\n\u001b[0;32m    103\u001b[0m     embedding \u001b[38;5;241m=\u001b[39m \u001b[38;5;28mself\u001b[39m\u001b[38;5;241m.\u001b[39mpooler(embedding)\n\u001b[0;32m    104\u001b[0m     \u001b[38;5;28;01mreturn\u001b[39;00m embedding\n",
      "File \u001b[1;32m~\\code\\SHARK-Turbine\\examples\\llama2_inference\\llama2.venv\\Lib\\site-packages\\torch\\nn\\modules\\module.py:1518\u001b[0m, in \u001b[0;36mModule._wrapped_call_impl\u001b[1;34m(self, *args, **kwargs)\u001b[0m\n\u001b[0;32m   1516\u001b[0m     \u001b[38;5;28;01mreturn\u001b[39;00m \u001b[38;5;28mself\u001b[39m\u001b[38;5;241m.\u001b[39m_compiled_call_impl(\u001b[38;5;241m*\u001b[39margs, \u001b[38;5;241m*\u001b[39m\u001b[38;5;241m*\u001b[39mkwargs)  \u001b[38;5;66;03m# type: ignore[misc]\u001b[39;00m\n\u001b[0;32m   1517\u001b[0m \u001b[38;5;28;01melse\u001b[39;00m:\n\u001b[1;32m-> 1518\u001b[0m     \u001b[38;5;28;01mreturn\u001b[39;00m \u001b[38;5;28;43mself\u001b[39;49m\u001b[38;5;241;43m.\u001b[39;49m\u001b[43m_call_impl\u001b[49m\u001b[43m(\u001b[49m\u001b[38;5;241;43m*\u001b[39;49m\u001b[43margs\u001b[49m\u001b[43m,\u001b[49m\u001b[43m \u001b[49m\u001b[38;5;241;43m*\u001b[39;49m\u001b[38;5;241;43m*\u001b[39;49m\u001b[43mkwargs\u001b[49m\u001b[43m)\u001b[49m\n",
      "File \u001b[1;32m~\\code\\SHARK-Turbine\\examples\\llama2_inference\\llama2.venv\\Lib\\site-packages\\torch\\nn\\modules\\module.py:1527\u001b[0m, in \u001b[0;36mModule._call_impl\u001b[1;34m(self, *args, **kwargs)\u001b[0m\n\u001b[0;32m   1522\u001b[0m \u001b[38;5;66;03m# If we don't have any hooks, we want to skip the rest of the logic in\u001b[39;00m\n\u001b[0;32m   1523\u001b[0m \u001b[38;5;66;03m# this function, and just call forward.\u001b[39;00m\n\u001b[0;32m   1524\u001b[0m \u001b[38;5;28;01mif\u001b[39;00m \u001b[38;5;129;01mnot\u001b[39;00m (\u001b[38;5;28mself\u001b[39m\u001b[38;5;241m.\u001b[39m_backward_hooks \u001b[38;5;129;01mor\u001b[39;00m \u001b[38;5;28mself\u001b[39m\u001b[38;5;241m.\u001b[39m_backward_pre_hooks \u001b[38;5;129;01mor\u001b[39;00m \u001b[38;5;28mself\u001b[39m\u001b[38;5;241m.\u001b[39m_forward_hooks \u001b[38;5;129;01mor\u001b[39;00m \u001b[38;5;28mself\u001b[39m\u001b[38;5;241m.\u001b[39m_forward_pre_hooks\n\u001b[0;32m   1525\u001b[0m         \u001b[38;5;129;01mor\u001b[39;00m _global_backward_pre_hooks \u001b[38;5;129;01mor\u001b[39;00m _global_backward_hooks\n\u001b[0;32m   1526\u001b[0m         \u001b[38;5;129;01mor\u001b[39;00m _global_forward_hooks \u001b[38;5;129;01mor\u001b[39;00m _global_forward_pre_hooks):\n\u001b[1;32m-> 1527\u001b[0m     \u001b[38;5;28;01mreturn\u001b[39;00m \u001b[43mforward_call\u001b[49m\u001b[43m(\u001b[49m\u001b[38;5;241;43m*\u001b[39;49m\u001b[43margs\u001b[49m\u001b[43m,\u001b[49m\u001b[43m \u001b[49m\u001b[38;5;241;43m*\u001b[39;49m\u001b[38;5;241;43m*\u001b[39;49m\u001b[43mkwargs\u001b[49m\u001b[43m)\u001b[49m\n\u001b[0;32m   1529\u001b[0m \u001b[38;5;28;01mtry\u001b[39;00m:\n\u001b[0;32m   1530\u001b[0m     result \u001b[38;5;241m=\u001b[39m \u001b[38;5;28;01mNone\u001b[39;00m\n",
      "File \u001b[1;32m~\\code\\SHARK-Turbine\\examples\\llama2_inference\\llama2.venv\\Lib\\site-packages\\transformers\\models\\resnet\\modeling_resnet.py:74\u001b[0m, in \u001b[0;36mResNetConvLayer.forward\u001b[1;34m(self, input)\u001b[0m\n\u001b[0;32m     73\u001b[0m \u001b[38;5;28;01mdef\u001b[39;00m \u001b[38;5;21mforward\u001b[39m(\u001b[38;5;28mself\u001b[39m, \u001b[38;5;28minput\u001b[39m: Tensor) \u001b[38;5;241m-\u001b[39m\u001b[38;5;241m>\u001b[39m Tensor:\n\u001b[1;32m---> 74\u001b[0m     hidden_state \u001b[38;5;241m=\u001b[39m \u001b[38;5;28;43mself\u001b[39;49m\u001b[38;5;241;43m.\u001b[39;49m\u001b[43mconvolution\u001b[49m\u001b[43m(\u001b[49m\u001b[38;5;28;43minput\u001b[39;49m\u001b[43m)\u001b[49m\n\u001b[0;32m     75\u001b[0m     hidden_state \u001b[38;5;241m=\u001b[39m \u001b[38;5;28mself\u001b[39m\u001b[38;5;241m.\u001b[39mnormalization(hidden_state)\n\u001b[0;32m     76\u001b[0m     hidden_state \u001b[38;5;241m=\u001b[39m \u001b[38;5;28mself\u001b[39m\u001b[38;5;241m.\u001b[39mactivation(hidden_state)\n",
      "File \u001b[1;32m~\\code\\SHARK-Turbine\\examples\\llama2_inference\\llama2.venv\\Lib\\site-packages\\torch\\nn\\modules\\module.py:1518\u001b[0m, in \u001b[0;36mModule._wrapped_call_impl\u001b[1;34m(self, *args, **kwargs)\u001b[0m\n\u001b[0;32m   1516\u001b[0m     \u001b[38;5;28;01mreturn\u001b[39;00m \u001b[38;5;28mself\u001b[39m\u001b[38;5;241m.\u001b[39m_compiled_call_impl(\u001b[38;5;241m*\u001b[39margs, \u001b[38;5;241m*\u001b[39m\u001b[38;5;241m*\u001b[39mkwargs)  \u001b[38;5;66;03m# type: ignore[misc]\u001b[39;00m\n\u001b[0;32m   1517\u001b[0m \u001b[38;5;28;01melse\u001b[39;00m:\n\u001b[1;32m-> 1518\u001b[0m     \u001b[38;5;28;01mreturn\u001b[39;00m \u001b[38;5;28;43mself\u001b[39;49m\u001b[38;5;241;43m.\u001b[39;49m\u001b[43m_call_impl\u001b[49m\u001b[43m(\u001b[49m\u001b[38;5;241;43m*\u001b[39;49m\u001b[43margs\u001b[49m\u001b[43m,\u001b[49m\u001b[43m \u001b[49m\u001b[38;5;241;43m*\u001b[39;49m\u001b[38;5;241;43m*\u001b[39;49m\u001b[43mkwargs\u001b[49m\u001b[43m)\u001b[49m\n",
      "File \u001b[1;32m~\\code\\SHARK-Turbine\\examples\\llama2_inference\\llama2.venv\\Lib\\site-packages\\torch\\nn\\modules\\module.py:1527\u001b[0m, in \u001b[0;36mModule._call_impl\u001b[1;34m(self, *args, **kwargs)\u001b[0m\n\u001b[0;32m   1522\u001b[0m \u001b[38;5;66;03m# If we don't have any hooks, we want to skip the rest of the logic in\u001b[39;00m\n\u001b[0;32m   1523\u001b[0m \u001b[38;5;66;03m# this function, and just call forward.\u001b[39;00m\n\u001b[0;32m   1524\u001b[0m \u001b[38;5;28;01mif\u001b[39;00m \u001b[38;5;129;01mnot\u001b[39;00m (\u001b[38;5;28mself\u001b[39m\u001b[38;5;241m.\u001b[39m_backward_hooks \u001b[38;5;129;01mor\u001b[39;00m \u001b[38;5;28mself\u001b[39m\u001b[38;5;241m.\u001b[39m_backward_pre_hooks \u001b[38;5;129;01mor\u001b[39;00m \u001b[38;5;28mself\u001b[39m\u001b[38;5;241m.\u001b[39m_forward_hooks \u001b[38;5;129;01mor\u001b[39;00m \u001b[38;5;28mself\u001b[39m\u001b[38;5;241m.\u001b[39m_forward_pre_hooks\n\u001b[0;32m   1525\u001b[0m         \u001b[38;5;129;01mor\u001b[39;00m _global_backward_pre_hooks \u001b[38;5;129;01mor\u001b[39;00m _global_backward_hooks\n\u001b[0;32m   1526\u001b[0m         \u001b[38;5;129;01mor\u001b[39;00m _global_forward_hooks \u001b[38;5;129;01mor\u001b[39;00m _global_forward_pre_hooks):\n\u001b[1;32m-> 1527\u001b[0m     \u001b[38;5;28;01mreturn\u001b[39;00m \u001b[43mforward_call\u001b[49m\u001b[43m(\u001b[49m\u001b[38;5;241;43m*\u001b[39;49m\u001b[43margs\u001b[49m\u001b[43m,\u001b[49m\u001b[43m \u001b[49m\u001b[38;5;241;43m*\u001b[39;49m\u001b[38;5;241;43m*\u001b[39;49m\u001b[43mkwargs\u001b[49m\u001b[43m)\u001b[49m\n\u001b[0;32m   1529\u001b[0m \u001b[38;5;28;01mtry\u001b[39;00m:\n\u001b[0;32m   1530\u001b[0m     result \u001b[38;5;241m=\u001b[39m \u001b[38;5;28;01mNone\u001b[39;00m\n",
      "File \u001b[1;32m~\\code\\SHARK-Turbine\\examples\\llama2_inference\\llama2.venv\\Lib\\site-packages\\torch\\nn\\modules\\conv.py:460\u001b[0m, in \u001b[0;36mConv2d.forward\u001b[1;34m(self, input)\u001b[0m\n\u001b[0;32m    459\u001b[0m \u001b[38;5;28;01mdef\u001b[39;00m \u001b[38;5;21mforward\u001b[39m(\u001b[38;5;28mself\u001b[39m, \u001b[38;5;28minput\u001b[39m: Tensor) \u001b[38;5;241m-\u001b[39m\u001b[38;5;241m>\u001b[39m Tensor:\n\u001b[1;32m--> 460\u001b[0m     \u001b[38;5;28;01mreturn\u001b[39;00m \u001b[38;5;28;43mself\u001b[39;49m\u001b[38;5;241;43m.\u001b[39;49m\u001b[43m_conv_forward\u001b[49m\u001b[43m(\u001b[49m\u001b[38;5;28;43minput\u001b[39;49m\u001b[43m,\u001b[49m\u001b[43m \u001b[49m\u001b[38;5;28;43mself\u001b[39;49m\u001b[38;5;241;43m.\u001b[39;49m\u001b[43mweight\u001b[49m\u001b[43m,\u001b[49m\u001b[43m \u001b[49m\u001b[38;5;28;43mself\u001b[39;49m\u001b[38;5;241;43m.\u001b[39;49m\u001b[43mbias\u001b[49m\u001b[43m)\u001b[49m\n",
      "File \u001b[1;32m~\\code\\SHARK-Turbine\\examples\\llama2_inference\\llama2.venv\\Lib\\site-packages\\torch\\nn\\modules\\conv.py:456\u001b[0m, in \u001b[0;36mConv2d._conv_forward\u001b[1;34m(self, input, weight, bias)\u001b[0m\n\u001b[0;32m    452\u001b[0m \u001b[38;5;28;01mif\u001b[39;00m \u001b[38;5;28mself\u001b[39m\u001b[38;5;241m.\u001b[39mpadding_mode \u001b[38;5;241m!=\u001b[39m \u001b[38;5;124m'\u001b[39m\u001b[38;5;124mzeros\u001b[39m\u001b[38;5;124m'\u001b[39m:\n\u001b[0;32m    453\u001b[0m     \u001b[38;5;28;01mreturn\u001b[39;00m F\u001b[38;5;241m.\u001b[39mconv2d(F\u001b[38;5;241m.\u001b[39mpad(\u001b[38;5;28minput\u001b[39m, \u001b[38;5;28mself\u001b[39m\u001b[38;5;241m.\u001b[39m_reversed_padding_repeated_twice, mode\u001b[38;5;241m=\u001b[39m\u001b[38;5;28mself\u001b[39m\u001b[38;5;241m.\u001b[39mpadding_mode),\n\u001b[0;32m    454\u001b[0m                     weight, bias, \u001b[38;5;28mself\u001b[39m\u001b[38;5;241m.\u001b[39mstride,\n\u001b[0;32m    455\u001b[0m                     _pair(\u001b[38;5;241m0\u001b[39m), \u001b[38;5;28mself\u001b[39m\u001b[38;5;241m.\u001b[39mdilation, \u001b[38;5;28mself\u001b[39m\u001b[38;5;241m.\u001b[39mgroups)\n\u001b[1;32m--> 456\u001b[0m \u001b[38;5;28;01mreturn\u001b[39;00m \u001b[43mF\u001b[49m\u001b[38;5;241;43m.\u001b[39;49m\u001b[43mconv2d\u001b[49m\u001b[43m(\u001b[49m\u001b[38;5;28;43minput\u001b[39;49m\u001b[43m,\u001b[49m\u001b[43m \u001b[49m\u001b[43mweight\u001b[49m\u001b[43m,\u001b[49m\u001b[43m \u001b[49m\u001b[43mbias\u001b[49m\u001b[43m,\u001b[49m\u001b[43m \u001b[49m\u001b[38;5;28;43mself\u001b[39;49m\u001b[38;5;241;43m.\u001b[39;49m\u001b[43mstride\u001b[49m\u001b[43m,\u001b[49m\n\u001b[0;32m    457\u001b[0m \u001b[43m                \u001b[49m\u001b[38;5;28;43mself\u001b[39;49m\u001b[38;5;241;43m.\u001b[39;49m\u001b[43mpadding\u001b[49m\u001b[43m,\u001b[49m\u001b[43m \u001b[49m\u001b[38;5;28;43mself\u001b[39;49m\u001b[38;5;241;43m.\u001b[39;49m\u001b[43mdilation\u001b[49m\u001b[43m,\u001b[49m\u001b[43m \u001b[49m\u001b[38;5;28;43mself\u001b[39;49m\u001b[38;5;241;43m.\u001b[39;49m\u001b[43mgroups\u001b[49m\u001b[43m)\u001b[49m\n",
      "\u001b[1;31mTypeError\u001b[0m: Multiple dispatch failed for 'torch.conv2d'; all __torch_function__ handlers returned NotImplemented:\n\n  - tensor subclass <class 'shark_turbine.aot.support.procedural.primitives.IrImmediateTensor'>\n\nFor more information, try re-running with TORCH_LOGS=not_implemented"
     ]
    }
   ],
   "source": [
    "inst2 = wtfamidoing2(context=Context(), import_to=\"IMPORT\")"
   ]
  },
  {
   "cell_type": "code",
   "execution_count": 11,
   "id": "127ebfe8-6e1d-4711-a3d5-bd7f427b9961",
   "metadata": {},
   "outputs": [],
   "source": [
    "module_str1 = str(CompiledModule.get_mlir_module(inst1))"
   ]
  },
  {
   "cell_type": "code",
   "execution_count": 12,
   "id": "d7f3dd79-08c9-48b7-bfe6-e5e3bc7f9a17",
   "metadata": {},
   "outputs": [
    {
     "ename": "NameError",
     "evalue": "name 'inst2' is not defined",
     "output_type": "error",
     "traceback": [
      "\u001b[1;31m---------------------------------------------------------------------------\u001b[0m",
      "\u001b[1;31mNameError\u001b[0m                                 Traceback (most recent call last)",
      "Cell \u001b[1;32mIn[12], line 1\u001b[0m\n\u001b[1;32m----> 1\u001b[0m module_str2 \u001b[38;5;241m=\u001b[39m \u001b[38;5;28mstr\u001b[39m(CompiledModule\u001b[38;5;241m.\u001b[39mget_mlir_module(\u001b[43minst2\u001b[49m))\n",
      "\u001b[1;31mNameError\u001b[0m: name 'inst2' is not defined"
     ]
    }
   ],
   "source": [
    "module_str2 = str(CompiledModule.get_mlir_module(inst2))"
   ]
  },
  {
   "cell_type": "code",
   "execution_count": 13,
   "id": "466e009a-1de6-40b8-b6a8-b5bef10e5c3d",
   "metadata": {},
   "outputs": [
    {
     "name": "stdout",
     "output_type": "stream",
     "text": [
      "module @wtfamidoing1 {\n",
      "  util.global private @_params.resnet.embedder.embedder.convolution.weight {noinline} : tensor<64x3x7x7xf32>\n",
      "  util.global private @_params.resnet.embedder.embedder.normalization.weight {noinline} : tensor<64xf32>\n",
      "  util.global private @_params.resnet.embedder.embedder.normalization.bias {noinline} : tensor<64xf32>\n",
      "  util.global private @_params.resnet.encoder.stages.0.layers.0.layer.0.convolution.weight {noinline} : tensor<64x64x3x3xf32>\n",
      "  util.global private @_params.resnet.encoder.stages.0.layers.0.layer.0.normalization.weight {noinline} : tensor<64xf32>\n",
      "  util.global private @_params.resnet.encoder.stages.0.layers.0.layer.0.normalization.bias {noinline} : tensor<64xf32>\n",
      "  util.global private @_params.resnet.encoder.stages.0.layers.0.layer.1.convolution.weight {noinline} : tensor<64x64x3x3xf32>\n",
      "  util.global private @_params.resnet.encoder.stages.0.layers.0.layer.1.normalization.weight {noinline} : tensor<64xf32>\n",
      "  util.global private @_params.resnet.encoder.stages.0.layers.0.layer.1.normalization.bias {noinline} : tensor<64xf32>\n",
      "  util.global private @_params.resnet.encoder.stages.0.layers.1.layer.0.convolution.weight {noinline} : tensor<64x64x3x3xf32>\n",
      "  util.global private @_params.resnet.encoder.stages.0.layers.1.layer.0.normalization.weight {noinline} : tensor<64xf32>\n",
      "  util.global private @_params.resnet.encoder.stages.0.layers.1.layer.0.normalization.bias {noinline} : tensor<64xf32>\n",
      "  util.global private @_params.resnet.encoder.stages.0.layers.1.layer.1.convolution.weight {noinline} : tensor<64x64x3x3xf32>\n",
      "  util.global private @_params.resnet.encoder.stages.0.layers.1.layer.1.normalization.weight {noinline} : tensor<64xf32>\n",
      "  util.global private @_params.resnet.encoder.stages.0.layers.1.layer.1.normalization.bias {noinline} : tensor<64xf32>\n",
      "  util.global private @_params.resnet.encoder.stages.1.layers.0.shortcut.convolution.weight {noinline} : tensor<128x64x1x1xf32>\n",
      "  util.global private @_params.resnet.encoder.stages.1.layers.0.shortcut.normalization.weight {noinline} : tensor<128xf32>\n",
      "  util.global private @_params.resnet.encoder.stages.1.layers.0.shortcut.normalization.bias {noinline} : tensor<128xf32>\n",
      "  util.global private @_params.resnet.encoder.stages.1.layers.0.layer.0.convolution.weight {noinline} : tensor<128x64x3x3xf32>\n",
      "  util.global private @_params.resnet.encoder.stages.1.layers.0.layer.0.normalization.weight {noinline} : tensor<128xf32>\n",
      "  util.global private @_params.resnet.encoder.stages.1.layers.0.layer.0.normalization.bias {noinline} : tensor<128xf32>\n",
      "  util.global private @_params.resnet.encoder.stages.1.layers.0.layer.1.convolution.weight {noinline} : tensor<128x128x3x3xf32>\n",
      "  util.global private @_params.resnet.encoder.stages.1.layers.0.layer.1.normalization.weight {noinline} : tensor<128xf32>\n",
      "  util.global private @_params.resnet.encoder.stages.1.layers.0.layer.1.normalization.bias {noinline} : tensor<128xf32>\n",
      "  util.global private @_params.resnet.encoder.stages.1.layers.1.layer.0.convolution.weight {noinline} : tensor<128x128x3x3xf32>\n",
      "  util.global private @_params.resnet.encoder.stages.1.layers.1.layer.0.normalization.weight {noinline} : tensor<128xf32>\n",
      "  util.global private @_params.resnet.encoder.stages.1.layers.1.layer.0.normalization.bias {noinline} : tensor<128xf32>\n",
      "  util.global private @_params.resnet.encoder.stages.1.layers.1.layer.1.convolution.weight {noinline} : tensor<128x128x3x3xf32>\n",
      "  util.global private @_params.resnet.encoder.stages.1.layers.1.layer.1.normalization.weight {noinline} : tensor<128xf32>\n",
      "  util.global private @_params.resnet.encoder.stages.1.layers.1.layer.1.normalization.bias {noinline} : tensor<128xf32>\n",
      "  util.global private @_params.resnet.encoder.stages.2.layers.0.shortcut.convolution.weight {noinline} : tensor<256x128x1x1xf32>\n",
      "  util.global private @_params.resnet.encoder.stages.2.layers.0.shortcut.normalization.weight {noinline} : tensor<256xf32>\n",
      "  util.global private @_params.resnet.encoder.stages.2.layers.0.shortcut.normalization.bias {noinline} : tensor<256xf32>\n",
      "  util.global private @_params.resnet.encoder.stages.2.layers.0.layer.0.convolution.weight {noinline} : tensor<256x128x3x3xf32>\n",
      "  util.global private @_params.resnet.encoder.stages.2.layers.0.layer.0.normalization.weight {noinline} : tensor<256xf32>\n",
      "  util.global private @_params.resnet.encoder.stages.2.layers.0.layer.0.normalization.bias {noinline} : tensor<256xf32>\n",
      "  util.global private @_params.resnet.encoder.stages.2.layers.0.layer.1.convolution.weight {noinline} : tensor<256x256x3x3xf32>\n",
      "  util.global private @_params.resnet.encoder.stages.2.layers.0.layer.1.normalization.weight {noinline} : tensor<256xf32>\n",
      "  util.global private @_params.resnet.encoder.stages.2.layers.0.layer.1.normalization.bias {noinline} : tensor<256xf32>\n",
      "  util.global private @_params.resnet.encoder.stages.2.layers.1.layer.0.convolution.weight {noinline} : tensor<256x256x3x3xf32>\n",
      "  util.global private @_params.resnet.encoder.stages.2.layers.1.layer.0.normalization.weight {noinline} : tensor<256xf32>\n",
      "  util.global private @_params.resnet.encoder.stages.2.layers.1.layer.0.normalization.bias {noinline} : tensor<256xf32>\n",
      "  util.global private @_params.resnet.encoder.stages.2.layers.1.layer.1.convolution.weight {noinline} : tensor<256x256x3x3xf32>\n",
      "  util.global private @_params.resnet.encoder.stages.2.layers.1.layer.1.normalization.weight {noinline} : tensor<256xf32>\n",
      "  util.global private @_params.resnet.encoder.stages.2.layers.1.layer.1.normalization.bias {noinline} : tensor<256xf32>\n",
      "  util.global private @_params.resnet.encoder.stages.3.layers.0.shortcut.convolution.weight {noinline} : tensor<512x256x1x1xf32>\n",
      "  util.global private @_params.resnet.encoder.stages.3.layers.0.shortcut.normalization.weight {noinline} : tensor<512xf32>\n",
      "  util.global private @_params.resnet.encoder.stages.3.layers.0.shortcut.normalization.bias {noinline} : tensor<512xf32>\n",
      "  util.global private @_params.resnet.encoder.stages.3.layers.0.layer.0.convolution.weight {noinline} : tensor<512x256x3x3xf32>\n",
      "  util.global private @_params.resnet.encoder.stages.3.layers.0.layer.0.normalization.weight {noinline} : tensor<512xf32>\n",
      "  util.global private @_params.resnet.encoder.stages.3.layers.0.layer.0.normalization.bias {noinline} : tensor<512xf32>\n",
      "  util.global private @_params.resnet.encoder.stages.3.layers.0.layer.1.convolution.weight {noinline} : tensor<512x512x3x3xf32>\n",
      "  util.global private @_params.resnet.encoder.stages.3.layers.0.layer.1.normalization.weight {noinline} : tensor<512xf32>\n",
      "  util.global private @_params.resnet.encoder.stages.3.layers.0.layer.1.normalization.bias {noinline} : tensor<512xf32>\n",
      "  util.global private @_params.resnet.encoder.stages.3.layers.1.layer.0.convolution.weight {noinline} : tensor<512x512x3x3xf32>\n",
      "  util.global private @_params.resnet.encoder.stages.3.layers.1.layer.0.normalization.weight {noinline} : tensor<512xf32>\n",
      "  util.global private @_params.resnet.encoder.stages.3.layers.1.layer.0.normalization.bias {noinline} : tensor<512xf32>\n",
      "  util.global private @_params.resnet.encoder.stages.3.layers.1.layer.1.convolution.weight {noinline} : tensor<512x512x3x3xf32>\n",
      "  util.global private @_params.resnet.encoder.stages.3.layers.1.layer.1.normalization.weight {noinline} : tensor<512xf32>\n",
      "  util.global private @_params.resnet.encoder.stages.3.layers.1.layer.1.normalization.bias {noinline} : tensor<512xf32>\n",
      "  util.global private @_params.classifier.1.weight {noinline} : tensor<1000x512xf32>\n",
      "  util.global private @_params.classifier.1.bias {noinline} : tensor<1000xf32>\n",
      "}\n",
      "\n"
     ]
    }
   ],
   "source": [
    "print(module_str1)"
   ]
  },
  {
   "cell_type": "code",
   "execution_count": 14,
   "id": "9dcab6fd-f945-41eb-a9db-bfff0ea2b0cc",
   "metadata": {},
   "outputs": [
    {
     "ename": "NameError",
     "evalue": "name 'module_str2' is not defined",
     "output_type": "error",
     "traceback": [
      "\u001b[1;31m---------------------------------------------------------------------------\u001b[0m",
      "\u001b[1;31mNameError\u001b[0m                                 Traceback (most recent call last)",
      "Cell \u001b[1;32mIn[14], line 1\u001b[0m\n\u001b[1;32m----> 1\u001b[0m \u001b[38;5;28mprint\u001b[39m(\u001b[43mmodule_str2\u001b[49m)\n",
      "\u001b[1;31mNameError\u001b[0m: name 'module_str2' is not defined"
     ]
    }
   ],
   "source": [
    "print(module_str2)"
   ]
  },
  {
   "cell_type": "code",
   "execution_count": null,
   "id": "b9854929-8fb6-4adb-a1d7-f00c4604020d",
   "metadata": {},
   "outputs": [],
   "source": [
    "'''Output a torch-ir mlir file\n",
    "with open(\"resnet-18.mlir\", \"w+\") as f:\n",
    "    f.write(module_str)'''"
   ]
  },
  {
   "cell_type": "code",
   "execution_count": null,
   "id": "620b85e0-bf9b-4527-bf6c-6f5708478917",
   "metadata": {},
   "outputs": [],
   "source": []
  }
 ],
 "metadata": {
  "kernelspec": {
   "display_name": "llama2.venv",
   "language": "python",
   "name": "llama2.venv"
  },
  "language_info": {
   "codemirror_mode": {
    "name": "ipython",
    "version": 3
   },
   "file_extension": ".py",
   "mimetype": "text/x-python",
   "name": "python",
   "nbconvert_exporter": "python",
   "pygments_lexer": "ipython3",
   "version": "3.11.6"
  }
 },
 "nbformat": 4,
 "nbformat_minor": 5
}
